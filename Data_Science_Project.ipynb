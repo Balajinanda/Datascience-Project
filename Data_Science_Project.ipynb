{
  "nbformat": 4,
  "nbformat_minor": 0,
  "metadata": {
    "colab": {
      "provenance": [],
      "authorship_tag": "ABX9TyMMJhXxS3JcsY0y9K31SHt5",
      "include_colab_link": true
    },
    "kernelspec": {
      "name": "python3",
      "display_name": "Python 3"
    },
    "language_info": {
      "name": "python"
    }
  },
  "cells": [
    {
      "cell_type": "markdown",
      "metadata": {
        "id": "view-in-github",
        "colab_type": "text"
      },
      "source": [
        "<a href=\"https://colab.research.google.com/github/Balajinanda/Datascience-Project/blob/main/Data_Science_Project.ipynb\" target=\"_parent\"><img src=\"https://colab.research.google.com/assets/colab-badge.svg\" alt=\"Open In Colab\"/></a>"
      ]
    },
    {
      "cell_type": "code",
      "source": [
        "from google.colab import drive\n",
        "\n",
        "# Mount Google Drive to access files\n",
        "drive.mount('/content/drive')"
      ],
      "metadata": {
        "id": "T9Bb9wYPreLZ",
        "outputId": "34e198fe-9012-4033-a22f-121ddc73a563",
        "colab": {
          "base_uri": "https://localhost:8080/"
        }
      },
      "execution_count": 1,
      "outputs": [
        {
          "output_type": "stream",
          "name": "stdout",
          "text": [
            "Mounted at /content/drive\n"
          ]
        }
      ]
    },
    {
      "cell_type": "code",
      "source": [
        "import zipfile\n",
        "import os\n",
        "\n",
        "# Define the path to the uploaded zip file and extraction directory\n",
        "zip_file_path = '/content/drive/MyDrive/HAR Balaji/PAMAP2_Dataset.zip'\n",
        "extract_dir = '/content/drive/MyDrive/HAR Balaji/PAMAP2_Dataset'\n",
        "\n",
        "# Extract the zip file\n",
        "with zipfile.ZipFile(zip_file_path, 'r') as zip_ref:\n",
        "    zip_ref.extractall(extract_dir)\n",
        "\n",
        "# List the extracted files\n",
        "extracted_files = os.listdir(extract_dir)\n",
        "extracted_files"
      ],
      "metadata": {
        "id": "gV-eKVU6ri4R",
        "outputId": "cdbaf8e4-5c8b-475f-d7f8-915bf9b5545c",
        "colab": {
          "base_uri": "https://localhost:8080/"
        }
      },
      "execution_count": 2,
      "outputs": [
        {
          "output_type": "execute_result",
          "data": {
            "text/plain": [
              "['subjectInformation.pdf',\n",
              " 'DataCollectionProtocol.pdf',\n",
              " 'readme.pdf',\n",
              " 'PerformedActivitiesSummary.pdf',\n",
              " 'DescriptionOfActivities.pdf',\n",
              " 'Protocol',\n",
              " 'Optional',\n",
              " 'PAMAP2_Dataset']"
            ]
          },
          "metadata": {},
          "execution_count": 2
        }
      ]
    },
    {
      "cell_type": "code",
      "source": [
        "# List the contents of the extracted directory to explore its structure\n",
        "opportunity_dataset_path = os.path.join(extract_dir, 'PAMAP2_Dataset')\n",
        "dataset_contents = os.listdir(opportunity_dataset_path)\n",
        "dataset_contents"
      ],
      "metadata": {
        "id": "asccd93vsSVe",
        "outputId": "17409a57-e362-4280-8c83-00147d3df41a",
        "colab": {
          "base_uri": "https://localhost:8080/"
        }
      },
      "execution_count": 3,
      "outputs": [
        {
          "output_type": "execute_result",
          "data": {
            "text/plain": [
              "['Protocol',\n",
              " 'Optional',\n",
              " 'PerformedActivitiesSummary.pdf',\n",
              " 'DescriptionOfActivities.pdf',\n",
              " 'DataCollectionProtocol.pdf',\n",
              " 'subjectInformation.pdf',\n",
              " 'readme.pdf']"
            ]
          },
          "metadata": {},
          "execution_count": 3
        }
      ]
    },
    {
      "cell_type": "code",
      "source": [
        "# List the contents of the 'dataset' folder\n",
        "dataset_folder_path = os.path.join(opportunity_dataset_path, 'Protocol')\n",
        "dataset_files = os.listdir(dataset_folder_path)\n",
        "dataset_files"
      ],
      "metadata": {
        "id": "SrwPRC6UsSlk",
        "outputId": "f8a43897-f7a6-4621-a5bc-090a00a76d71",
        "colab": {
          "base_uri": "https://localhost:8080/"
        }
      },
      "execution_count": 4,
      "outputs": [
        {
          "output_type": "execute_result",
          "data": {
            "text/plain": [
              "['subject101.dat',\n",
              " 'subject102.dat',\n",
              " 'subject103.dat',\n",
              " 'subject104.dat',\n",
              " 'subject105.dat',\n",
              " 'subject106.dat',\n",
              " 'subject107.dat',\n",
              " 'subject108.dat',\n",
              " 'subject109.dat']"
            ]
          },
          "metadata": {},
          "execution_count": 4
        }
      ]
    },
    {
      "cell_type": "code",
      "source": [
        "import pandas as pd\n",
        "import numpy as np\n",
        "\n",
        "# Define the path to the .dat file (update the file path)\n",
        "file_path = '/content/drive/MyDrive/HAR Balaji/PAMAP2_Dataset/Protocol/subject101.dat'\n",
        "\n",
        "# Define column names based on the dataset documentation\n",
        "columns = [\n",
        "    \"timestamp\", \"activity_id\", \"heart_rate\",\n",
        "    # IMU Hand\n",
        "    \"hand_temp\", \"hand_acc1_x\", \"hand_acc1_y\", \"hand_acc1_z\",\n",
        "    \"hand_acc2_x\", \"hand_acc2_y\", \"hand_acc2_z\",\n",
        "    \"hand_gyro_x\", \"hand_gyro_y\", \"hand_gyro_z\",\n",
        "    \"hand_mag_x\", \"hand_mag_y\", \"hand_mag_z\",\n",
        "    \"hand_orientation_1\", \"hand_orientation_2\", \"hand_orientation_3\", \"hand_orientation_4\",\n",
        "    # IMU Chest\n",
        "    \"chest_temp\", \"chest_acc1_x\", \"chest_acc1_y\", \"chest_acc1_z\",\n",
        "    \"chest_acc2_x\", \"chest_acc2_y\", \"chest_acc2_z\",\n",
        "    \"chest_gyro_x\", \"chest_gyro_y\", \"chest_gyro_z\",\n",
        "    \"chest_mag_x\", \"chest_mag_y\", \"chest_mag_z\",\n",
        "    \"chest_orientation_1\", \"chest_orientation_2\", \"chest_orientation_3\", \"chest_orientation_4\",\n",
        "    # IMU Ankle\n",
        "    \"ankle_temp\", \"ankle_acc1_x\", \"ankle_acc1_y\", \"ankle_acc1_z\",\n",
        "    \"ankle_acc2_x\", \"ankle_acc2_y\", \"ankle_acc2_z\",\n",
        "    \"ankle_gyro_x\", \"ankle_gyro_y\", \"ankle_gyro_z\",\n",
        "    \"ankle_mag_x\", \"ankle_mag_y\", \"ankle_mag_z\",\n",
        "    \"ankle_orientation_1\", \"ankle_orientation_2\", \"ankle_orientation_3\", \"ankle_orientation_4\"\n",
        "]\n",
        "\n",
        "# Load the .dat file into a pandas DataFrame\n",
        "data = pd.read_csv(file_path, sep=' ', header=None, names=columns)\n",
        "\n",
        "# Display basic information about the data\n",
        "print(\"Data loaded successfully!\")\n",
        "print(data.info())\n",
        "print(data.head())\n",
        "\n",
        "# Handle missing data (NaNs)\n",
        "data = data.dropna()  # Option 1: Drop rows with NaN values\n",
        "# data = data.fillna(method='ffill')  # Option 2: Forward fill (if preferred)\n",
        "\n",
        "# Exclude rows with Activity ID = 0 (transient activities)\n",
        "filtered_data = data[data[\"activity_id\"] != 0]\n",
        "\n",
        "# Display the filtered data\n",
        "print(f\"Filtered data shape: {filtered_data.shape}\")\n",
        "print(filtered_data.head())"
      ],
      "metadata": {
        "id": "N8Rb2t9ZsSyK",
        "colab": {
          "base_uri": "https://localhost:8080/"
        },
        "outputId": "6a4e0fcd-648c-4737-b134-3596f3465595"
      },
      "execution_count": 5,
      "outputs": [
        {
          "output_type": "stream",
          "name": "stdout",
          "text": [
            "Data loaded successfully!\n",
            "<class 'pandas.core.frame.DataFrame'>\n",
            "RangeIndex: 376417 entries, 0 to 376416\n",
            "Data columns (total 54 columns):\n",
            " #   Column               Non-Null Count   Dtype  \n",
            "---  ------               --------------   -----  \n",
            " 0   timestamp            376417 non-null  float64\n",
            " 1   activity_id          376417 non-null  int64  \n",
            " 2   heart_rate           34389 non-null   float64\n",
            " 3   hand_temp            374963 non-null  float64\n",
            " 4   hand_acc1_x          374963 non-null  float64\n",
            " 5   hand_acc1_y          374963 non-null  float64\n",
            " 6   hand_acc1_z          374963 non-null  float64\n",
            " 7   hand_acc2_x          374963 non-null  float64\n",
            " 8   hand_acc2_y          374963 non-null  float64\n",
            " 9   hand_acc2_z          374963 non-null  float64\n",
            " 10  hand_gyro_x          374963 non-null  float64\n",
            " 11  hand_gyro_y          374963 non-null  float64\n",
            " 12  hand_gyro_z          374963 non-null  float64\n",
            " 13  hand_mag_x           374963 non-null  float64\n",
            " 14  hand_mag_y           374963 non-null  float64\n",
            " 15  hand_mag_z           374963 non-null  float64\n",
            " 16  hand_orientation_1   374963 non-null  float64\n",
            " 17  hand_orientation_2   374963 non-null  float64\n",
            " 18  hand_orientation_3   374963 non-null  float64\n",
            " 19  hand_orientation_4   374963 non-null  float64\n",
            " 20  chest_temp           375908 non-null  float64\n",
            " 21  chest_acc1_x         375908 non-null  float64\n",
            " 22  chest_acc1_y         375908 non-null  float64\n",
            " 23  chest_acc1_z         375908 non-null  float64\n",
            " 24  chest_acc2_x         375908 non-null  float64\n",
            " 25  chest_acc2_y         375908 non-null  float64\n",
            " 26  chest_acc2_z         375908 non-null  float64\n",
            " 27  chest_gyro_x         375908 non-null  float64\n",
            " 28  chest_gyro_y         375908 non-null  float64\n",
            " 29  chest_gyro_z         375908 non-null  float64\n",
            " 30  chest_mag_x          375908 non-null  float64\n",
            " 31  chest_mag_y          375908 non-null  float64\n",
            " 32  chest_mag_z          375908 non-null  float64\n",
            " 33  chest_orientation_1  375908 non-null  float64\n",
            " 34  chest_orientation_2  375908 non-null  float64\n",
            " 35  chest_orientation_3  375908 non-null  float64\n",
            " 36  chest_orientation_4  375908 non-null  float64\n",
            " 37  ankle_temp           375090 non-null  float64\n",
            " 38  ankle_acc1_x         375090 non-null  float64\n",
            " 39  ankle_acc1_y         375090 non-null  float64\n",
            " 40  ankle_acc1_z         375090 non-null  float64\n",
            " 41  ankle_acc2_x         375090 non-null  float64\n",
            " 42  ankle_acc2_y         375090 non-null  float64\n",
            " 43  ankle_acc2_z         375090 non-null  float64\n",
            " 44  ankle_gyro_x         375090 non-null  float64\n",
            " 45  ankle_gyro_y         375090 non-null  float64\n",
            " 46  ankle_gyro_z         375090 non-null  float64\n",
            " 47  ankle_mag_x          375090 non-null  float64\n",
            " 48  ankle_mag_y          375090 non-null  float64\n",
            " 49  ankle_mag_z          375090 non-null  float64\n",
            " 50  ankle_orientation_1  375090 non-null  float64\n",
            " 51  ankle_orientation_2  375090 non-null  float64\n",
            " 52  ankle_orientation_3  375090 non-null  float64\n",
            " 53  ankle_orientation_4  375090 non-null  float64\n",
            "dtypes: float64(53), int64(1)\n",
            "memory usage: 155.1 MB\n",
            "None\n",
            "   timestamp  activity_id  heart_rate  hand_temp  hand_acc1_x  hand_acc1_y  \\\n",
            "0       8.38            0       104.0       30.0      2.37223      8.60074   \n",
            "1       8.39            0         NaN       30.0      2.18837      8.56560   \n",
            "2       8.40            0         NaN       30.0      2.37357      8.60107   \n",
            "3       8.41            0         NaN       30.0      2.07473      8.52853   \n",
            "4       8.42            0         NaN       30.0      2.22936      8.83122   \n",
            "\n",
            "   hand_acc1_z  hand_acc2_x  hand_acc2_y  hand_acc2_z  ...  ankle_gyro_x  \\\n",
            "0      3.51048      2.43954      8.76165      3.35465  ...      0.008300   \n",
            "1      3.66179      2.39494      8.55081      3.64207  ...     -0.006577   \n",
            "2      3.54898      2.30514      8.53644      3.73280  ...      0.003014   \n",
            "3      3.66021      2.33528      8.53622      3.73277  ...      0.003175   \n",
            "4      3.70000      2.23055      8.59741      3.76295  ...      0.012698   \n",
            "\n",
            "   ankle_gyro_y  ankle_gyro_z  ankle_mag_x  ankle_mag_y  ankle_mag_z  \\\n",
            "0      0.009250     -0.017580     -61.1888     -38.9599     -58.1438   \n",
            "1     -0.004638      0.000368     -59.8479     -38.8919     -58.5253   \n",
            "2      0.000148      0.022495     -60.7361     -39.4138     -58.3999   \n",
            "3     -0.020301      0.011275     -60.4091     -38.7635     -58.3956   \n",
            "4     -0.014303     -0.002823     -61.5199     -39.3879     -58.2694   \n",
            "\n",
            "   ankle_orientation_1  ankle_orientation_2  ankle_orientation_3  \\\n",
            "0                  1.0                  0.0                  0.0   \n",
            "1                  1.0                  0.0                  0.0   \n",
            "2                  1.0                  0.0                  0.0   \n",
            "3                  1.0                  0.0                  0.0   \n",
            "4                  1.0                  0.0                  0.0   \n",
            "\n",
            "   ankle_orientation_4  \n",
            "0                  0.0  \n",
            "1                  0.0  \n",
            "2                  0.0  \n",
            "3                  0.0  \n",
            "4                  0.0  \n",
            "\n",
            "[5 rows x 54 columns]\n",
            "Filtered data shape: (22590, 54)\n",
            "      timestamp  activity_id  heart_rate  hand_temp  hand_acc1_x  hand_acc1_y  \\\n",
            "2932      37.70            1       100.0     30.375      2.30106      7.25857   \n",
            "2943      37.81            1       100.0     30.375      2.24615      7.48180   \n",
            "2954      37.92            1       100.0     30.375      2.30000      7.10681   \n",
            "2965      38.03            1       100.0     30.375      2.49455      7.52335   \n",
            "2976      38.14            1       101.0     30.375      2.71654      8.30596   \n",
            "\n",
            "      hand_acc1_z  hand_acc2_x  hand_acc2_y  hand_acc2_z  ...  ankle_gyro_x  \\\n",
            "2932      6.09259      2.20720      7.24042      5.95555  ...      0.001351   \n",
            "2943      5.55219      2.25130      7.40595      5.65313  ...      0.005819   \n",
            "2954      6.09309      2.34613      7.46611      6.12103  ...      0.015376   \n",
            "2965      6.17157      2.59106      7.76653      6.27112  ...     -0.012672   \n",
            "2976      4.78671      2.59596      7.94641      4.86635  ...      0.050959   \n",
            "\n",
            "      ankle_gyro_y  ankle_gyro_z  ankle_mag_x  ankle_mag_y  ankle_mag_z  \\\n",
            "2932     -0.048878     -0.006328     -60.2040     -37.1225     -57.8847   \n",
            "2943     -0.017912      0.015243     -60.7820     -36.2116     -58.4891   \n",
            "2954     -0.011798      0.011387     -61.4531     -36.2983     -58.4845   \n",
            "2965     -0.009233      0.005823     -62.0065     -36.7217     -58.3608   \n",
            "2976     -0.042562     -0.009289     -60.4311     -37.5412     -59.0013   \n",
            "\n",
            "      ankle_orientation_1  ankle_orientation_2  ankle_orientation_3  \\\n",
            "2932                  1.0                  0.0                  0.0   \n",
            "2943                  1.0                  0.0                  0.0   \n",
            "2954                  1.0                  0.0                  0.0   \n",
            "2965                  1.0                  0.0                  0.0   \n",
            "2976                  1.0                  0.0                  0.0   \n",
            "\n",
            "      ankle_orientation_4  \n",
            "2932                  0.0  \n",
            "2943                  0.0  \n",
            "2954                  0.0  \n",
            "2965                  0.0  \n",
            "2976                  0.0  \n",
            "\n",
            "[5 rows x 54 columns]\n"
          ]
        }
      ]
    },
    {
      "cell_type": "code",
      "source": [
        "# Summary statistics\n",
        "print(filtered_data.describe())"
      ],
      "metadata": {
        "colab": {
          "base_uri": "https://localhost:8080/"
        },
        "id": "tK-V5sTzP-M3",
        "outputId": "256fea5a-ab75-4bf1-bf2a-8af0fe77b631"
      },
      "execution_count": 6,
      "outputs": [
        {
          "output_type": "stream",
          "name": "stdout",
          "text": [
            "          timestamp   activity_id    heart_rate     hand_temp   hand_acc1_x  \\\n",
            "count  22590.000000  22590.000000  22590.000000  22590.000000  22590.000000   \n",
            "mean    1701.668593      8.295396    121.964542     32.429537     -4.121835   \n",
            "std     1098.657685      6.500983     26.524246      1.119505      6.726207   \n",
            "min       37.700000      1.000000     78.000000     30.187500    -42.770700   \n",
            "25%      656.417500      3.000000    100.000000     31.562500     -8.238433   \n",
            "50%     1601.275000      6.000000    123.000000     32.625000     -3.877355   \n",
            "75%     2687.735000     13.000000    137.000000     33.375000      0.751062   \n",
            "max     3626.300000     24.000000    183.000000     33.875000     11.807300   \n",
            "\n",
            "        hand_acc1_y   hand_acc1_z   hand_acc2_x   hand_acc2_y   hand_acc2_z  \\\n",
            "count  22590.000000  22590.000000  22590.000000  22590.000000  22590.000000   \n",
            "mean       5.820877      3.758208     -4.080199      5.852148      3.918839   \n",
            "std        5.898736      3.727674      6.768574      5.927121      3.703021   \n",
            "min      -22.363700    -19.140900    -42.651600    -22.103900    -16.358000   \n",
            "25%        3.122735      1.571655     -8.164962      3.163782      1.746990   \n",
            "50%        5.220335      3.869285     -3.817365      5.286280      4.080275   \n",
            "75%        7.909263      6.274365      0.767242      7.892252      6.567485   \n",
            "max       92.053000     65.302700     13.607200     62.030900     50.842500   \n",
            "\n",
            "       ...  ankle_gyro_x  ankle_gyro_y  ankle_gyro_z   ankle_mag_x  \\\n",
            "count  ...  22590.000000  22590.000000  22590.000000  22590.000000   \n",
            "mean   ...     -0.001437      0.012219      0.005605    -49.461449   \n",
            "std    ...      1.014799      0.633683      1.949734     26.294133   \n",
            "min    ...     -9.326890     -7.324840    -11.539700   -172.236000   \n",
            "25%    ...     -0.244713     -0.055452     -0.444192    -63.844050   \n",
            "50%    ...     -0.000875      0.005277     -0.004334    -52.707750   \n",
            "75%    ...      0.097840      0.217069      0.084767    -30.002425   \n",
            "max    ...      9.068100      6.410380      9.263240     82.818800   \n",
            "\n",
            "        ankle_mag_y   ankle_mag_z  ankle_orientation_1  ankle_orientation_2  \\\n",
            "count  22590.000000  22590.000000              22590.0              22590.0   \n",
            "mean      -3.770157     13.507829                  1.0                  0.0   \n",
            "std       32.253178     30.607738                  0.0                  0.0   \n",
            "min     -135.604000   -100.864000                  1.0                  0.0   \n",
            "25%      -28.886325     -6.755712                  1.0                  0.0   \n",
            "50%       -5.804235     15.777850                  1.0                  0.0   \n",
            "75%       23.225675     37.488975                  1.0                  0.0   \n",
            "max       90.478100    121.229000                  1.0                  0.0   \n",
            "\n",
            "       ankle_orientation_3  ankle_orientation_4  \n",
            "count              22590.0              22590.0  \n",
            "mean                   0.0                  0.0  \n",
            "std                    0.0                  0.0  \n",
            "min                    0.0                  0.0  \n",
            "25%                    0.0                  0.0  \n",
            "50%                    0.0                  0.0  \n",
            "75%                    0.0                  0.0  \n",
            "max                    0.0                  0.0  \n",
            "\n",
            "[8 rows x 54 columns]\n"
          ]
        }
      ]
    }
  ]
}