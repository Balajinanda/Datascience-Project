{
  "nbformat": 4,
  "nbformat_minor": 0,
  "metadata": {
    "colab": {
      "provenance": [],
      "authorship_tag": "ABX9TyMrKFQTbvN+euYpiH6yGSMV",
      "include_colab_link": true
    },
    "kernelspec": {
      "name": "python3",
      "display_name": "Python 3"
    },
    "language_info": {
      "name": "python"
    }
  },
  "cells": [
    {
      "cell_type": "markdown",
      "metadata": {
        "id": "view-in-github",
        "colab_type": "text"
      },
      "source": [
        "<a href=\"https://colab.research.google.com/github/Balajinanda/Datascience-Project/blob/main/Data_Science_Project.ipynb\" target=\"_parent\"><img src=\"https://colab.research.google.com/assets/colab-badge.svg\" alt=\"Open In Colab\"/></a>"
      ]
    },
    {
      "cell_type": "code",
      "source": [
        "from google.colab import drive\n",
        "\n",
        "# Mount Google Drive to access files\n",
        "drive.mount('/content/drive')"
      ],
      "metadata": {
        "id": "T9Bb9wYPreLZ",
        "outputId": "9aa909e7-8257-4a40-b982-293cc6e75c09",
        "colab": {
          "base_uri": "https://localhost:8080/"
        }
      },
      "execution_count": 1,
      "outputs": [
        {
          "output_type": "stream",
          "name": "stdout",
          "text": [
            "Mounted at /content/drive\n"
          ]
        }
      ]
    },
    {
      "cell_type": "code",
      "source": [
        "import zipfile\n",
        "import os\n",
        "\n",
        "# Define the path to your zip file\n",
        "zip_file_path = '/content/drive/MyDrive/Dataset/opportunity+activity+recognition.zip'\n",
        "extraction_dir = '/content/drive/MyDrive/Dataset/OpportunityUCIDataset/dataset'\n",
        "\n",
        "# Extract the contents of the zip file\n",
        "with zipfile.ZipFile(zip_file_path, 'r') as zip_ref:\n",
        "    zip_ref.extractall(extraction_dir)\n",
        "\n",
        "# List the contents of the extracted directory\n",
        "os.listdir(extraction_dir)"
      ],
      "metadata": {
        "id": "gV-eKVU6ri4R",
        "outputId": "17d1d2b6-f064-41b3-e478-71ad0e933d07",
        "colab": {
          "base_uri": "https://localhost:8080/"
        }
      },
      "execution_count": 3,
      "outputs": [
        {
          "output_type": "execute_result",
          "data": {
            "text/plain": [
              "['label_legend.txt',\n",
              " 'S1-ADL1.dat',\n",
              " 'column_names.txt',\n",
              " 'S1-ADL3.dat',\n",
              " 'S1-ADL4.dat',\n",
              " 'S1-ADL2.dat',\n",
              " 'S1-ADL5.dat',\n",
              " 'S2-ADL1.dat',\n",
              " 'S2-ADL2.dat',\n",
              " 'S2-ADL5.dat',\n",
              " 'S2-ADL4.dat',\n",
              " 'S2-ADL3.dat',\n",
              " 'S3-ADL2.dat',\n",
              " 'S2-Drill.dat',\n",
              " 'S3-ADL1.dat',\n",
              " 'S3-ADL4.dat',\n",
              " 'S3-ADL3.dat',\n",
              " 'S3-ADL5.dat',\n",
              " 'S3-Drill.dat',\n",
              " 'S4-ADL1.dat',\n",
              " 'S4-ADL5.dat',\n",
              " 'S4-ADL3.dat',\n",
              " 'S4-ADL4.dat',\n",
              " 'S4-ADL2.dat',\n",
              " 'S4-Drill.dat',\n",
              " 'OpportunityUCIDataset']"
            ]
          },
          "metadata": {},
          "execution_count": 3
        }
      ]
    },
    {
      "cell_type": "code",
      "source": [
        "# Explore the contents of the OpportunityUCIDataset directory\n",
        "opportunity_dataset_dir = os.path.join(extraction_dir, 'OpportunityUCIDataset')\n",
        "os.listdir(opportunity_dataset_dir)"
      ],
      "metadata": {
        "id": "asccd93vsSVe",
        "outputId": "29596533-5723-49c8-cced-03abf280247f",
        "colab": {
          "base_uri": "https://localhost:8080/"
        }
      },
      "execution_count": 4,
      "outputs": [
        {
          "output_type": "execute_result",
          "data": {
            "text/plain": [
              "['dataset', 'doc', 'scripts', 'README']"
            ]
          },
          "metadata": {},
          "execution_count": 4
        }
      ]
    },
    {
      "cell_type": "code",
      "source": [
        "# List the contents of the 'dataset' directory\n",
        "dataset_dir = os.path.join(opportunity_dataset_dir, 'dataset')\n",
        "os.listdir(dataset_dir)"
      ],
      "metadata": {
        "id": "SrwPRC6UsSlk",
        "outputId": "d70f9165-bf13-4b1e-80e5-d34b7260d854",
        "colab": {
          "base_uri": "https://localhost:8080/"
        }
      },
      "execution_count": 5,
      "outputs": [
        {
          "output_type": "execute_result",
          "data": {
            "text/plain": [
              "['column_names.txt',\n",
              " 'label_legend.txt',\n",
              " 'S1-ADL3.dat',\n",
              " 'S1-ADL2.dat',\n",
              " 'S1-ADL1.dat',\n",
              " 'S1-ADL5.dat',\n",
              " 'S1-Drill.dat',\n",
              " 'S1-ADL4.dat',\n",
              " 'S2-ADL1.dat',\n",
              " 'S2-ADL2.dat',\n",
              " 'S2-ADL3.dat',\n",
              " 'S2-ADL4.dat',\n",
              " 'S2-ADL5.dat',\n",
              " 'S2-Drill.dat',\n",
              " 'S3-ADL3.dat',\n",
              " 'S3-ADL2.dat',\n",
              " 'S3-ADL1.dat',\n",
              " 'S3-ADL4.dat',\n",
              " 'S3-ADL5.dat',\n",
              " 'S3-Drill.dat',\n",
              " 'S4-ADL2.dat',\n",
              " 'S4-ADL3.dat',\n",
              " 'S4-ADL4.dat',\n",
              " 'S4-ADL1.dat',\n",
              " 'S4-ADL5.dat',\n",
              " 'S4-Drill.dat']"
            ]
          },
          "metadata": {},
          "execution_count": 5
        }
      ]
    },
    {
      "cell_type": "code",
      "source": [],
      "metadata": {
        "id": "N8Rb2t9ZsSyK"
      },
      "execution_count": null,
      "outputs": []
    }
  ]
}