{
  "nbformat": 4,
  "nbformat_minor": 0,
  "metadata": {
    "colab": {
      "provenance": [],
      "authorship_tag": "ABX9TyPMPfwOBi1hS+oa//V/ZzFO",
      "include_colab_link": true
    },
    "kernelspec": {
      "name": "python3",
      "display_name": "Python 3"
    },
    "language_info": {
      "name": "python"
    }
  },
  "cells": [
    {
      "cell_type": "markdown",
      "metadata": {
        "id": "view-in-github",
        "colab_type": "text"
      },
      "source": [
        "<a href=\"https://colab.research.google.com/github/Balajinanda/Datascience-Project/blob/main/data_science_project.ipynb\" target=\"_parent\"><img src=\"https://colab.research.google.com/assets/colab-badge.svg\" alt=\"Open In Colab\"/></a>"
      ]
    },
    {
      "cell_type": "code",
      "source": [
        "from google.colab import drive\n",
        "\n",
        "# Mount Google Drive to access files\n",
        "drive.mount('/content/drive')"
      ],
      "metadata": {
        "colab": {
          "base_uri": "https://localhost:8080/"
        },
        "id": "1oqyvu0A9epz",
        "outputId": "11a5d064-a7c9-4f9f-ef07-9efc6a9c399c"
      },
      "execution_count": null,
      "outputs": [
        {
          "output_type": "stream",
          "name": "stdout",
          "text": [
            "Mounted at /content/drive\n"
          ]
        }
      ]
    },
    {
      "cell_type": "code",
      "source": [
        "import zipfile\n",
        "import os\n",
        "\n",
        "# Define the path for the uploaded zip file and extraction directory\n",
        "zip_path = '/content/drive/MyDrive/Dataset/opportunity+activity+recognition.zip'\n",
        "extract_dir = '/content/drive/MyDrive/Dataset/OpportunityUCIDataset/dataset'\n",
        "\n",
        "# Extract the zip file\n",
        "with zipfile.ZipFile(zip_path, 'r') as zip_ref:\n",
        "    zip_ref.extractall(extract_dir)\n",
        "\n",
        "# List the contents of the extracted directory to see the structure\n",
        "extracted_files = os.listdir(extract_dir)\n",
        "extracted_files"
      ],
      "metadata": {
        "colab": {
          "base_uri": "https://localhost:8080/"
        },
        "id": "tR7ZBdrl9gBi",
        "outputId": "5ad3a3e9-21a9-4deb-cc68-4417e988012e"
      },
      "execution_count": null,
      "outputs": [
        {
          "output_type": "execute_result",
          "data": {
            "text/plain": [
              "['label_legend.txt',\n",
              " 'S1-ADL1.dat',\n",
              " 'column_names.txt',\n",
              " 'S1-ADL3.dat',\n",
              " 'S1-ADL4.dat',\n",
              " 'S1-ADL2.dat',\n",
              " 'S1-ADL5.dat',\n",
              " 'S2-ADL1.dat',\n",
              " 'S2-ADL2.dat',\n",
              " 'S2-ADL5.dat',\n",
              " 'S2-ADL4.dat',\n",
              " 'S2-ADL3.dat',\n",
              " 'S3-ADL2.dat',\n",
              " 'S2-Drill.dat',\n",
              " 'S3-ADL1.dat',\n",
              " 'S3-ADL4.dat',\n",
              " 'S3-ADL3.dat',\n",
              " 'S3-ADL5.dat',\n",
              " 'S3-Drill.dat',\n",
              " 'S4-ADL1.dat',\n",
              " 'S4-ADL5.dat',\n",
              " 'S4-ADL3.dat',\n",
              " 'S4-ADL4.dat',\n",
              " 'S4-ADL2.dat',\n",
              " 'S4-Drill.dat',\n",
              " 'OpportunityUCIDataset']"
            ]
          },
          "metadata": {},
          "execution_count": 5
        }
      ]
    },
    {
      "cell_type": "code",
      "source": [
        "# List the contents within the main directory of the extracted dataset\n",
        "opportunity_folder = os.path.join(extract_dir, 'OpportunityUCIDataset')\n",
        "opportunity_files = os.listdir(opportunity_folder)\n",
        "opportunity_files"
      ],
      "metadata": {
        "colab": {
          "base_uri": "https://localhost:8080/"
        },
        "id": "RuKgLHtcA5S3",
        "outputId": "5a3d9768-b695-4a6d-8df6-dd6ce9294a44"
      },
      "execution_count": null,
      "outputs": [
        {
          "output_type": "execute_result",
          "data": {
            "text/plain": [
              "['dataset', 'doc', 'scripts', 'README']"
            ]
          },
          "metadata": {},
          "execution_count": 6
        }
      ]
    },
    {
      "cell_type": "code",
      "source": [
        "# List the contents within the 'dataset' folder to locate the data files\n",
        "dataset_folder = os.path.join(opportunity_folder, 'dataset')\n",
        "dataset_files = os.listdir(dataset_folder)\n",
        "dataset_files"
      ],
      "metadata": {
        "colab": {
          "base_uri": "https://localhost:8080/"
        },
        "id": "P-4NJ7REA5g4",
        "outputId": "e37deb4d-e94f-4d0c-f987-118f12d66252"
      },
      "execution_count": null,
      "outputs": [
        {
          "output_type": "execute_result",
          "data": {
            "text/plain": [
              "['column_names.txt',\n",
              " 'label_legend.txt',\n",
              " 'S1-ADL2.dat',\n",
              " 'S1-ADL3.dat',\n",
              " 'S1-ADL1.dat',\n",
              " 'S1-ADL5.dat',\n",
              " 'S1-ADL4.dat',\n",
              " 'S1-Drill.dat',\n",
              " 'S2-ADL1.dat',\n",
              " 'S2-ADL2.dat',\n",
              " 'S2-ADL3.dat',\n",
              " 'S2-ADL5.dat',\n",
              " 'S2-ADL4.dat',\n",
              " 'S2-Drill.dat',\n",
              " 'S3-ADL1.dat',\n",
              " 'S3-ADL2.dat',\n",
              " 'S3-ADL3.dat',\n",
              " 'S3-ADL4.dat',\n",
              " 'S3-ADL5.dat',\n",
              " 'S4-ADL1.dat',\n",
              " 'S4-ADL2.dat',\n",
              " 'S3-Drill.dat',\n",
              " 'S4-ADL4.dat',\n",
              " 'S4-ADL5.dat',\n",
              " 'S4-ADL3.dat',\n",
              " 'S4-Drill.dat']"
            ]
          },
          "metadata": {},
          "execution_count": 8
        }
      ]
    },
    {
      "cell_type": "code",
      "source": [
        "import pandas as pd\n",
        "\n",
        "# Load a sample data file (e.g., S1-ADL1.dat) to explore its structure\n",
        "sample_data_path = os.path.join(dataset_folder, 'S1-ADL1.dat')\n",
        "sample_data = pd.read_csv(sample_data_path, sep=' ', header=None)\n",
        "\n",
        "# Display the first few rows and the shape of the data\n",
        "sample_data_head = sample_data.head()\n",
        "sample_data_shape = sample_data.shape\n",
        "\n",
        "sample_data_head, sample_data_shape"
      ],
      "metadata": {
        "id": "VuO3gu9p8X1q",
        "colab": {
          "base_uri": "https://localhost:8080/"
        },
        "outputId": "bce5cde4-bf1b-4c1b-a10a-3cea6aa58771"
      },
      "execution_count": null,
      "outputs": [
        {
          "output_type": "execute_result",
          "data": {
            "text/plain": [
              "(   0      1      2      3     4       5      6      7       8      9    ...  \\\n",
              " 0    0   87.0  975.0 -287.0  11.0  1001.0  163.0   95.0   975.0  152.0  ...   \n",
              " 1   33  124.0  978.0 -389.0  -7.0  1014.0  199.0  124.0   968.0  123.0  ...   \n",
              " 2   67  102.0  996.0 -440.0 -49.0  1024.0  193.0  127.0  1001.0  113.0  ...   \n",
              " 3  100   59.0  861.0 -384.0  -9.0  1023.0  202.0  110.0  1007.0  106.0  ...   \n",
              " 4  133  119.0  946.0 -426.0 -22.0  1026.0  188.0   98.0  1001.0   92.0  ...   \n",
              " \n",
              "       240     241     242  243  244  245  246  247  248  249  \n",
              " 0  5789.0  2907.0  1447.0    0    0    0    0    0    0    0  \n",
              " 1  5789.0  2908.0  1443.0    0    0    0    0    0    0    0  \n",
              " 2  5789.0  2910.0  1440.0    0    0    0    0    0    0    0  \n",
              " 3  5789.0  2912.0  1440.0    0    0    0    0    0    0    0  \n",
              " 4  5791.0  2915.0  1442.0    0    0    0    0    0    0    0  \n",
              " \n",
              " [5 rows x 250 columns],\n",
              " (51116, 250))"
            ]
          },
          "metadata": {},
          "execution_count": 9
        }
      ]
    },
    {
      "cell_type": "code",
      "source": [
        "# Load the column names file to understand and label the columns in the data\n",
        "column_names_path = os.path.join(dataset_folder, 'column_names.txt')\n",
        "\n",
        "# Read the column names from the text file\n",
        "with open(column_names_path, 'r') as f:\n",
        "    column_names = f.read().splitlines()\n",
        "\n",
        "# Display the first few column names for inspection\n",
        "column_names[:10], len(column_names)"
      ],
      "metadata": {
        "id": "YY6EKULW8X4a",
        "colab": {
          "base_uri": "https://localhost:8080/"
        },
        "outputId": "6de6c133-12eb-4842-e6a2-3ad5213bb224"
      },
      "execution_count": null,
      "outputs": [
        {
          "output_type": "execute_result",
          "data": {
            "text/plain": [
              "(['Data columns:',\n",
              "  '',\n",
              "  'Column: 1 MILLISEC',\n",
              "  'Column: 2 Accelerometer RKN^ accX; value = round(original_value), unit = milli g',\n",
              "  'Column: 3 Accelerometer RKN^ accY; value = round(original_value), unit = milli g',\n",
              "  'Column: 4 Accelerometer RKN^ accZ; value = round(original_value), unit = milli g',\n",
              "  'Column: 5 Accelerometer HIP accX; value = round(original_value), unit = milli g',\n",
              "  'Column: 6 Accelerometer HIP accY; value = round(original_value), unit = milli g',\n",
              "  'Column: 7 Accelerometer HIP accZ; value = round(original_value), unit = milli g',\n",
              "  'Column: 8 Accelerometer LUA^ accX; value = round(original_value), unit = milli g'],\n",
              " 255)"
            ]
          },
          "metadata": {},
          "execution_count": 10
        }
      ]
    },
    {
      "cell_type": "code",
      "source": [
        "# Extract actual column names by filtering out lines that do not contain column definitions\n",
        "column_names_filtered = [line.split()[2] for line in column_names if 'Column:' in line]\n",
        "\n",
        "# Verify the filtered column names count matches the data columns and display the first few for inspection\n",
        "len(column_names_filtered), column_names_filtered[:10]"
      ],
      "metadata": {
        "id": "7p0Mihl98X7G",
        "colab": {
          "base_uri": "https://localhost:8080/"
        },
        "outputId": "6037c8c2-8aa5-4c79-bc80-a4d4b5fb82cf"
      },
      "execution_count": null,
      "outputs": [
        {
          "output_type": "execute_result",
          "data": {
            "text/plain": [
              "(250,\n",
              " ['MILLISEC',\n",
              "  'Accelerometer',\n",
              "  'Accelerometer',\n",
              "  'Accelerometer',\n",
              "  'Accelerometer',\n",
              "  'Accelerometer',\n",
              "  'Accelerometer',\n",
              "  'Accelerometer',\n",
              "  'Accelerometer',\n",
              "  'Accelerometer'])"
            ]
          },
          "metadata": {},
          "execution_count": 11
        }
      ]
    },
    {
      "cell_type": "code",
      "source": [
        "# Refine column names by appending indices where names repeat for uniqueness\n",
        "from collections import Counter\n",
        "\n",
        "# Track name occurrences and make names unique\n",
        "name_counts = Counter()\n",
        "unique_column_names = []\n",
        "for name in column_names_filtered:\n",
        "    if name_counts[name] > 0:\n",
        "        unique_name = f\"{name}_{name_counts[name]}\"\n",
        "    else:\n",
        "        unique_name = name\n",
        "    unique_column_names.append(unique_name)\n",
        "    name_counts[name] += 1\n",
        "\n",
        "# Apply refined column names to the sample data\n",
        "sample_data.columns = unique_column_names\n",
        "\n",
        "# Display the first few columns to verify unique naming\n",
        "sample_data.head()"
      ],
      "metadata": {
        "id": "epyF4vT-8X92",
        "colab": {
          "base_uri": "https://localhost:8080/",
          "height": 255
        },
        "outputId": "77764184-823e-48ea-e232-82de68a77b7d"
      },
      "execution_count": null,
      "outputs": [
        {
          "output_type": "execute_result",
          "data": {
            "text/plain": [
              "   MILLISEC  Accelerometer  Accelerometer_1  Accelerometer_2  Accelerometer_3  \\\n",
              "0         0           87.0            975.0           -287.0             11.0   \n",
              "1        33          124.0            978.0           -389.0             -7.0   \n",
              "2        67          102.0            996.0           -440.0            -49.0   \n",
              "3       100           59.0            861.0           -384.0             -9.0   \n",
              "4       133          119.0            946.0           -426.0            -22.0   \n",
              "\n",
              "   Accelerometer_4  Accelerometer_5  Accelerometer_6  Accelerometer_7  \\\n",
              "0           1001.0            163.0             95.0            975.0   \n",
              "1           1014.0            199.0            124.0            968.0   \n",
              "2           1024.0            193.0            127.0           1001.0   \n",
              "3           1023.0            202.0            110.0           1007.0   \n",
              "4           1026.0            188.0             98.0           1001.0   \n",
              "\n",
              "   Accelerometer_8  ...  LOCATION_9  LOCATION_10  LOCATION_11  Locomotion  \\\n",
              "0            152.0  ...      5789.0       2907.0       1447.0           0   \n",
              "1            123.0  ...      5789.0       2908.0       1443.0           0   \n",
              "2            113.0  ...      5789.0       2910.0       1440.0           0   \n",
              "3            106.0  ...      5789.0       2912.0       1440.0           0   \n",
              "4             92.0  ...      5791.0       2915.0       1442.0           0   \n",
              "\n",
              "   HL_Activity  LL_Left_Arm  LL_Left_Arm_Object  LL_Right_Arm  \\\n",
              "0            0            0                   0             0   \n",
              "1            0            0                   0             0   \n",
              "2            0            0                   0             0   \n",
              "3            0            0                   0             0   \n",
              "4            0            0                   0             0   \n",
              "\n",
              "   LL_Right_Arm_Object  ML_Both_Arms  \n",
              "0                    0             0  \n",
              "1                    0             0  \n",
              "2                    0             0  \n",
              "3                    0             0  \n",
              "4                    0             0  \n",
              "\n",
              "[5 rows x 250 columns]"
            ],
            "text/html": [
              "\n",
              "  <div id=\"df-2ce9f19a-1ef0-4843-b0a8-87398aeebd13\" class=\"colab-df-container\">\n",
              "    <div>\n",
              "<style scoped>\n",
              "    .dataframe tbody tr th:only-of-type {\n",
              "        vertical-align: middle;\n",
              "    }\n",
              "\n",
              "    .dataframe tbody tr th {\n",
              "        vertical-align: top;\n",
              "    }\n",
              "\n",
              "    .dataframe thead th {\n",
              "        text-align: right;\n",
              "    }\n",
              "</style>\n",
              "<table border=\"1\" class=\"dataframe\">\n",
              "  <thead>\n",
              "    <tr style=\"text-align: right;\">\n",
              "      <th></th>\n",
              "      <th>MILLISEC</th>\n",
              "      <th>Accelerometer</th>\n",
              "      <th>Accelerometer_1</th>\n",
              "      <th>Accelerometer_2</th>\n",
              "      <th>Accelerometer_3</th>\n",
              "      <th>Accelerometer_4</th>\n",
              "      <th>Accelerometer_5</th>\n",
              "      <th>Accelerometer_6</th>\n",
              "      <th>Accelerometer_7</th>\n",
              "      <th>Accelerometer_8</th>\n",
              "      <th>...</th>\n",
              "      <th>LOCATION_9</th>\n",
              "      <th>LOCATION_10</th>\n",
              "      <th>LOCATION_11</th>\n",
              "      <th>Locomotion</th>\n",
              "      <th>HL_Activity</th>\n",
              "      <th>LL_Left_Arm</th>\n",
              "      <th>LL_Left_Arm_Object</th>\n",
              "      <th>LL_Right_Arm</th>\n",
              "      <th>LL_Right_Arm_Object</th>\n",
              "      <th>ML_Both_Arms</th>\n",
              "    </tr>\n",
              "  </thead>\n",
              "  <tbody>\n",
              "    <tr>\n",
              "      <th>0</th>\n",
              "      <td>0</td>\n",
              "      <td>87.0</td>\n",
              "      <td>975.0</td>\n",
              "      <td>-287.0</td>\n",
              "      <td>11.0</td>\n",
              "      <td>1001.0</td>\n",
              "      <td>163.0</td>\n",
              "      <td>95.0</td>\n",
              "      <td>975.0</td>\n",
              "      <td>152.0</td>\n",
              "      <td>...</td>\n",
              "      <td>5789.0</td>\n",
              "      <td>2907.0</td>\n",
              "      <td>1447.0</td>\n",
              "      <td>0</td>\n",
              "      <td>0</td>\n",
              "      <td>0</td>\n",
              "      <td>0</td>\n",
              "      <td>0</td>\n",
              "      <td>0</td>\n",
              "      <td>0</td>\n",
              "    </tr>\n",
              "    <tr>\n",
              "      <th>1</th>\n",
              "      <td>33</td>\n",
              "      <td>124.0</td>\n",
              "      <td>978.0</td>\n",
              "      <td>-389.0</td>\n",
              "      <td>-7.0</td>\n",
              "      <td>1014.0</td>\n",
              "      <td>199.0</td>\n",
              "      <td>124.0</td>\n",
              "      <td>968.0</td>\n",
              "      <td>123.0</td>\n",
              "      <td>...</td>\n",
              "      <td>5789.0</td>\n",
              "      <td>2908.0</td>\n",
              "      <td>1443.0</td>\n",
              "      <td>0</td>\n",
              "      <td>0</td>\n",
              "      <td>0</td>\n",
              "      <td>0</td>\n",
              "      <td>0</td>\n",
              "      <td>0</td>\n",
              "      <td>0</td>\n",
              "    </tr>\n",
              "    <tr>\n",
              "      <th>2</th>\n",
              "      <td>67</td>\n",
              "      <td>102.0</td>\n",
              "      <td>996.0</td>\n",
              "      <td>-440.0</td>\n",
              "      <td>-49.0</td>\n",
              "      <td>1024.0</td>\n",
              "      <td>193.0</td>\n",
              "      <td>127.0</td>\n",
              "      <td>1001.0</td>\n",
              "      <td>113.0</td>\n",
              "      <td>...</td>\n",
              "      <td>5789.0</td>\n",
              "      <td>2910.0</td>\n",
              "      <td>1440.0</td>\n",
              "      <td>0</td>\n",
              "      <td>0</td>\n",
              "      <td>0</td>\n",
              "      <td>0</td>\n",
              "      <td>0</td>\n",
              "      <td>0</td>\n",
              "      <td>0</td>\n",
              "    </tr>\n",
              "    <tr>\n",
              "      <th>3</th>\n",
              "      <td>100</td>\n",
              "      <td>59.0</td>\n",
              "      <td>861.0</td>\n",
              "      <td>-384.0</td>\n",
              "      <td>-9.0</td>\n",
              "      <td>1023.0</td>\n",
              "      <td>202.0</td>\n",
              "      <td>110.0</td>\n",
              "      <td>1007.0</td>\n",
              "      <td>106.0</td>\n",
              "      <td>...</td>\n",
              "      <td>5789.0</td>\n",
              "      <td>2912.0</td>\n",
              "      <td>1440.0</td>\n",
              "      <td>0</td>\n",
              "      <td>0</td>\n",
              "      <td>0</td>\n",
              "      <td>0</td>\n",
              "      <td>0</td>\n",
              "      <td>0</td>\n",
              "      <td>0</td>\n",
              "    </tr>\n",
              "    <tr>\n",
              "      <th>4</th>\n",
              "      <td>133</td>\n",
              "      <td>119.0</td>\n",
              "      <td>946.0</td>\n",
              "      <td>-426.0</td>\n",
              "      <td>-22.0</td>\n",
              "      <td>1026.0</td>\n",
              "      <td>188.0</td>\n",
              "      <td>98.0</td>\n",
              "      <td>1001.0</td>\n",
              "      <td>92.0</td>\n",
              "      <td>...</td>\n",
              "      <td>5791.0</td>\n",
              "      <td>2915.0</td>\n",
              "      <td>1442.0</td>\n",
              "      <td>0</td>\n",
              "      <td>0</td>\n",
              "      <td>0</td>\n",
              "      <td>0</td>\n",
              "      <td>0</td>\n",
              "      <td>0</td>\n",
              "      <td>0</td>\n",
              "    </tr>\n",
              "  </tbody>\n",
              "</table>\n",
              "<p>5 rows × 250 columns</p>\n",
              "</div>\n",
              "    <div class=\"colab-df-buttons\">\n",
              "\n",
              "  <div class=\"colab-df-container\">\n",
              "    <button class=\"colab-df-convert\" onclick=\"convertToInteractive('df-2ce9f19a-1ef0-4843-b0a8-87398aeebd13')\"\n",
              "            title=\"Convert this dataframe to an interactive table.\"\n",
              "            style=\"display:none;\">\n",
              "\n",
              "  <svg xmlns=\"http://www.w3.org/2000/svg\" height=\"24px\" viewBox=\"0 -960 960 960\">\n",
              "    <path d=\"M120-120v-720h720v720H120Zm60-500h600v-160H180v160Zm220 220h160v-160H400v160Zm0 220h160v-160H400v160ZM180-400h160v-160H180v160Zm440 0h160v-160H620v160ZM180-180h160v-160H180v160Zm440 0h160v-160H620v160Z\"/>\n",
              "  </svg>\n",
              "    </button>\n",
              "\n",
              "  <style>\n",
              "    .colab-df-container {\n",
              "      display:flex;\n",
              "      gap: 12px;\n",
              "    }\n",
              "\n",
              "    .colab-df-convert {\n",
              "      background-color: #E8F0FE;\n",
              "      border: none;\n",
              "      border-radius: 50%;\n",
              "      cursor: pointer;\n",
              "      display: none;\n",
              "      fill: #1967D2;\n",
              "      height: 32px;\n",
              "      padding: 0 0 0 0;\n",
              "      width: 32px;\n",
              "    }\n",
              "\n",
              "    .colab-df-convert:hover {\n",
              "      background-color: #E2EBFA;\n",
              "      box-shadow: 0px 1px 2px rgba(60, 64, 67, 0.3), 0px 1px 3px 1px rgba(60, 64, 67, 0.15);\n",
              "      fill: #174EA6;\n",
              "    }\n",
              "\n",
              "    .colab-df-buttons div {\n",
              "      margin-bottom: 4px;\n",
              "    }\n",
              "\n",
              "    [theme=dark] .colab-df-convert {\n",
              "      background-color: #3B4455;\n",
              "      fill: #D2E3FC;\n",
              "    }\n",
              "\n",
              "    [theme=dark] .colab-df-convert:hover {\n",
              "      background-color: #434B5C;\n",
              "      box-shadow: 0px 1px 3px 1px rgba(0, 0, 0, 0.15);\n",
              "      filter: drop-shadow(0px 1px 2px rgba(0, 0, 0, 0.3));\n",
              "      fill: #FFFFFF;\n",
              "    }\n",
              "  </style>\n",
              "\n",
              "    <script>\n",
              "      const buttonEl =\n",
              "        document.querySelector('#df-2ce9f19a-1ef0-4843-b0a8-87398aeebd13 button.colab-df-convert');\n",
              "      buttonEl.style.display =\n",
              "        google.colab.kernel.accessAllowed ? 'block' : 'none';\n",
              "\n",
              "      async function convertToInteractive(key) {\n",
              "        const element = document.querySelector('#df-2ce9f19a-1ef0-4843-b0a8-87398aeebd13');\n",
              "        const dataTable =\n",
              "          await google.colab.kernel.invokeFunction('convertToInteractive',\n",
              "                                                    [key], {});\n",
              "        if (!dataTable) return;\n",
              "\n",
              "        const docLinkHtml = 'Like what you see? Visit the ' +\n",
              "          '<a target=\"_blank\" href=https://colab.research.google.com/notebooks/data_table.ipynb>data table notebook</a>'\n",
              "          + ' to learn more about interactive tables.';\n",
              "        element.innerHTML = '';\n",
              "        dataTable['output_type'] = 'display_data';\n",
              "        await google.colab.output.renderOutput(dataTable, element);\n",
              "        const docLink = document.createElement('div');\n",
              "        docLink.innerHTML = docLinkHtml;\n",
              "        element.appendChild(docLink);\n",
              "      }\n",
              "    </script>\n",
              "  </div>\n",
              "\n",
              "\n",
              "<div id=\"df-d4ddc3f6-6b0c-4fa5-885e-f8fff93b8b70\">\n",
              "  <button class=\"colab-df-quickchart\" onclick=\"quickchart('df-d4ddc3f6-6b0c-4fa5-885e-f8fff93b8b70')\"\n",
              "            title=\"Suggest charts\"\n",
              "            style=\"display:none;\">\n",
              "\n",
              "<svg xmlns=\"http://www.w3.org/2000/svg\" height=\"24px\"viewBox=\"0 0 24 24\"\n",
              "     width=\"24px\">\n",
              "    <g>\n",
              "        <path d=\"M19 3H5c-1.1 0-2 .9-2 2v14c0 1.1.9 2 2 2h14c1.1 0 2-.9 2-2V5c0-1.1-.9-2-2-2zM9 17H7v-7h2v7zm4 0h-2V7h2v10zm4 0h-2v-4h2v4z\"/>\n",
              "    </g>\n",
              "</svg>\n",
              "  </button>\n",
              "\n",
              "<style>\n",
              "  .colab-df-quickchart {\n",
              "      --bg-color: #E8F0FE;\n",
              "      --fill-color: #1967D2;\n",
              "      --hover-bg-color: #E2EBFA;\n",
              "      --hover-fill-color: #174EA6;\n",
              "      --disabled-fill-color: #AAA;\n",
              "      --disabled-bg-color: #DDD;\n",
              "  }\n",
              "\n",
              "  [theme=dark] .colab-df-quickchart {\n",
              "      --bg-color: #3B4455;\n",
              "      --fill-color: #D2E3FC;\n",
              "      --hover-bg-color: #434B5C;\n",
              "      --hover-fill-color: #FFFFFF;\n",
              "      --disabled-bg-color: #3B4455;\n",
              "      --disabled-fill-color: #666;\n",
              "  }\n",
              "\n",
              "  .colab-df-quickchart {\n",
              "    background-color: var(--bg-color);\n",
              "    border: none;\n",
              "    border-radius: 50%;\n",
              "    cursor: pointer;\n",
              "    display: none;\n",
              "    fill: var(--fill-color);\n",
              "    height: 32px;\n",
              "    padding: 0;\n",
              "    width: 32px;\n",
              "  }\n",
              "\n",
              "  .colab-df-quickchart:hover {\n",
              "    background-color: var(--hover-bg-color);\n",
              "    box-shadow: 0 1px 2px rgba(60, 64, 67, 0.3), 0 1px 3px 1px rgba(60, 64, 67, 0.15);\n",
              "    fill: var(--button-hover-fill-color);\n",
              "  }\n",
              "\n",
              "  .colab-df-quickchart-complete:disabled,\n",
              "  .colab-df-quickchart-complete:disabled:hover {\n",
              "    background-color: var(--disabled-bg-color);\n",
              "    fill: var(--disabled-fill-color);\n",
              "    box-shadow: none;\n",
              "  }\n",
              "\n",
              "  .colab-df-spinner {\n",
              "    border: 2px solid var(--fill-color);\n",
              "    border-color: transparent;\n",
              "    border-bottom-color: var(--fill-color);\n",
              "    animation:\n",
              "      spin 1s steps(1) infinite;\n",
              "  }\n",
              "\n",
              "  @keyframes spin {\n",
              "    0% {\n",
              "      border-color: transparent;\n",
              "      border-bottom-color: var(--fill-color);\n",
              "      border-left-color: var(--fill-color);\n",
              "    }\n",
              "    20% {\n",
              "      border-color: transparent;\n",
              "      border-left-color: var(--fill-color);\n",
              "      border-top-color: var(--fill-color);\n",
              "    }\n",
              "    30% {\n",
              "      border-color: transparent;\n",
              "      border-left-color: var(--fill-color);\n",
              "      border-top-color: var(--fill-color);\n",
              "      border-right-color: var(--fill-color);\n",
              "    }\n",
              "    40% {\n",
              "      border-color: transparent;\n",
              "      border-right-color: var(--fill-color);\n",
              "      border-top-color: var(--fill-color);\n",
              "    }\n",
              "    60% {\n",
              "      border-color: transparent;\n",
              "      border-right-color: var(--fill-color);\n",
              "    }\n",
              "    80% {\n",
              "      border-color: transparent;\n",
              "      border-right-color: var(--fill-color);\n",
              "      border-bottom-color: var(--fill-color);\n",
              "    }\n",
              "    90% {\n",
              "      border-color: transparent;\n",
              "      border-bottom-color: var(--fill-color);\n",
              "    }\n",
              "  }\n",
              "</style>\n",
              "\n",
              "  <script>\n",
              "    async function quickchart(key) {\n",
              "      const quickchartButtonEl =\n",
              "        document.querySelector('#' + key + ' button');\n",
              "      quickchartButtonEl.disabled = true;  // To prevent multiple clicks.\n",
              "      quickchartButtonEl.classList.add('colab-df-spinner');\n",
              "      try {\n",
              "        const charts = await google.colab.kernel.invokeFunction(\n",
              "            'suggestCharts', [key], {});\n",
              "      } catch (error) {\n",
              "        console.error('Error during call to suggestCharts:', error);\n",
              "      }\n",
              "      quickchartButtonEl.classList.remove('colab-df-spinner');\n",
              "      quickchartButtonEl.classList.add('colab-df-quickchart-complete');\n",
              "    }\n",
              "    (() => {\n",
              "      let quickchartButtonEl =\n",
              "        document.querySelector('#df-d4ddc3f6-6b0c-4fa5-885e-f8fff93b8b70 button');\n",
              "      quickchartButtonEl.style.display =\n",
              "        google.colab.kernel.accessAllowed ? 'block' : 'none';\n",
              "    })();\n",
              "  </script>\n",
              "</div>\n",
              "\n",
              "    </div>\n",
              "  </div>\n"
            ],
            "application/vnd.google.colaboratory.intrinsic+json": {
              "type": "dataframe",
              "variable_name": "sample_data"
            }
          },
          "metadata": {},
          "execution_count": 12
        }
      ]
    },
    {
      "cell_type": "code",
      "source": [
        "# Step 1: Handle Missing Data\n",
        "\n",
        "# Check the proportion of missing values\n",
        "missing_data_percentage = sample_data.isnull().mean() * 100\n",
        "\n",
        "# Fill missing values using forward-fill method, a common approach for time-series data\n",
        "# (assuming previous valid data point is a reasonable approximation)\n",
        "sample_data_ffill = sample_data.fillna(method='ffill')\n",
        "\n",
        "# Verify if there are any remaining missing values\n",
        "remaining_na_count = sample_data_ffill.isnull().sum().sum()\n",
        "\n",
        "# Step 2: Normalization of Sensor Readings\n",
        "from sklearn.preprocessing import StandardScaler\n",
        "\n",
        "# Assuming sensor readings start from the second column up to the label columns at the end\n",
        "sensor_columns = sample_data_ffill.columns[1:243]  # Exclude first timestamp column\n",
        "\n",
        "# Initialize scaler and apply it to the sensor columns\n",
        "scaler = StandardScaler()\n",
        "sample_data_ffill[sensor_columns] = scaler.fit_transform(sample_data_ffill[sensor_columns])\n",
        "\n",
        "# Display the proportion of initial missing values, remaining missing values, and a preview of the normalized data\n",
        "missing_data_percentage.head(), remaining_na_count, sample_data_ffill.head()"
      ],
      "metadata": {
        "id": "3bzwZP1x8YAX",
        "colab": {
          "base_uri": "https://localhost:8080/"
        },
        "outputId": "4c437ce3-b3e6-45c0-8a82-ad862774943a"
      },
      "execution_count": null,
      "outputs": [
        {
          "output_type": "stream",
          "name": "stderr",
          "text": [
            "<ipython-input-13-445be97976f8>:8: FutureWarning: DataFrame.fillna with 'method' is deprecated and will raise in a future version. Use obj.ffill() or obj.bfill() instead.\n",
            "  sample_data_ffill = sample_data.fillna(method='ffill')\n"
          ]
        },
        {
          "output_type": "execute_result",
          "data": {
            "text/plain": [
              "(MILLISEC           0.000000\n",
              " Accelerometer      1.782221\n",
              " Accelerometer_1    1.782221\n",
              " Accelerometer_2    1.782221\n",
              " Accelerometer_3    0.911652\n",
              " dtype: float64,\n",
              " 303009,\n",
              "    MILLISEC  Accelerometer  Accelerometer_1  Accelerometer_2  Accelerometer_3  \\\n",
              " 0         0       0.268548         0.542843        -0.818782         0.852622   \n",
              " 1        33       0.362885         0.549683        -0.981439         0.761883   \n",
              " 2        67       0.306793         0.590725        -1.062768         0.550158   \n",
              " 3       100       0.197158         0.282913        -0.973466         0.751801   \n",
              " 4       133       0.350137         0.476720        -1.040442         0.686267   \n",
              " \n",
              "    Accelerometer_4  Accelerometer_5  Accelerometer_6  Accelerometer_7  \\\n",
              " 0         0.286163        -0.124146         0.113183         0.291424   \n",
              " 1         0.347930         0.063795         0.204689         0.261245   \n",
              " 2         0.395444         0.032472         0.214155         0.403519   \n",
              " 3         0.390692         0.079457         0.160514         0.429387   \n",
              " 4         0.404946         0.006369         0.122649         0.403519   \n",
              " \n",
              "    Accelerometer_8  ...  LOCATION_9  LOCATION_10  LOCATION_11  Locomotion  \\\n",
              " 0         0.113092  ...    0.070642     1.147588     0.222849           0   \n",
              " 1        -0.007242  ...    0.070642     1.148699     0.211570           0   \n",
              " 2        -0.048736  ...    0.070642     1.150920     0.203110           0   \n",
              " 3        -0.077782  ...    0.070642     1.153141     0.203110           0   \n",
              " 4        -0.135875  ...    0.071894     1.156473     0.208750           0   \n",
              " \n",
              "    HL_Activity  LL_Left_Arm  LL_Left_Arm_Object  LL_Right_Arm  \\\n",
              " 0            0            0                   0             0   \n",
              " 1            0            0                   0             0   \n",
              " 2            0            0                   0             0   \n",
              " 3            0            0                   0             0   \n",
              " 4            0            0                   0             0   \n",
              " \n",
              "    LL_Right_Arm_Object  ML_Both_Arms  \n",
              " 0                    0             0  \n",
              " 1                    0             0  \n",
              " 2                    0             0  \n",
              " 3                    0             0  \n",
              " 4                    0             0  \n",
              " \n",
              " [5 rows x 250 columns])"
            ]
          },
          "metadata": {},
          "execution_count": 13
        }
      ]
    },
    {
      "cell_type": "code",
      "source": [
        "# Select a subset of the data (first 10,000 rows) to reduce memory usage\n",
        "sample_data_subset = sample_data_ffill.iloc[:10000, :].copy()\n",
        "\n",
        "# Reapply the normalization on this subset\n",
        "sample_data_subset[sensor_columns] = scaler.fit_transform(sample_data_subset[sensor_columns])\n",
        "\n",
        "# Verify by checking for any remaining missing values and showing a preview of normalized data\n",
        "remaining_na_count_subset = sample_data_subset.isnull().sum().sum()\n",
        "sample_data_subset.head(), remaining_na_count_subset"
      ],
      "metadata": {
        "id": "L6VVLfPP8YCy",
        "colab": {
          "base_uri": "https://localhost:8080/"
        },
        "outputId": "aeb0421e-4984-44a2-fe11-4c6ee0af9e38"
      },
      "execution_count": null,
      "outputs": [
        {
          "output_type": "stream",
          "name": "stderr",
          "text": [
            "/usr/local/lib/python3.10/dist-packages/sklearn/utils/extmath.py:1137: RuntimeWarning: invalid value encountered in divide\n",
            "  updated_mean = (last_sum + new_sum) / updated_sample_count\n",
            "/usr/local/lib/python3.10/dist-packages/sklearn/utils/extmath.py:1142: RuntimeWarning: invalid value encountered in divide\n",
            "  T = new_sum / new_sample_count\n",
            "/usr/local/lib/python3.10/dist-packages/sklearn/utils/extmath.py:1162: RuntimeWarning: invalid value encountered in divide\n",
            "  new_unnormalized_variance -= correction**2 / new_sample_count\n"
          ]
        },
        {
          "output_type": "execute_result",
          "data": {
            "text/plain": [
              "(   MILLISEC  Accelerometer  Accelerometer_1  Accelerometer_2  Accelerometer_3  \\\n",
              " 0         0       0.595338         0.431086         0.332864         0.580763   \n",
              " 1        33       0.716952         0.443080        -0.275177         0.435678   \n",
              " 2        67       0.644641         0.515049        -0.579197         0.097147   \n",
              " 3       100       0.503306        -0.024719        -0.245371         0.419558   \n",
              " 4       133       0.700518         0.315135        -0.495740         0.314774   \n",
              " \n",
              "    Accelerometer_4  Accelerometer_5  Accelerometer_6  Accelerometer_7  \\\n",
              " 0         0.372523        -0.775773         0.314121         0.245571   \n",
              " 1         0.423337        -0.603014         0.402046         0.220235   \n",
              " 2         0.462425        -0.631807         0.411141         0.339677   \n",
              " 3         0.458517        -0.588617         0.359599         0.361393   \n",
              " 4         0.470243        -0.655801         0.323217         0.339677   \n",
              " \n",
              "    Accelerometer_8  ...  LOCATION_9  LOCATION_10  LOCATION_11  Locomotion  \\\n",
              " 0         0.421310  ...   -0.453030     0.573916     0.463225           0   \n",
              " 1         0.234474  ...   -0.453030     0.575757     0.451712           0   \n",
              " 2         0.170048  ...   -0.453030     0.579439     0.443076           0   \n",
              " 3         0.124949  ...   -0.453030     0.583121     0.443076           0   \n",
              " 4         0.034752  ...   -0.449902     0.588644     0.448833           0   \n",
              " \n",
              "    HL_Activity  LL_Left_Arm  LL_Left_Arm_Object  LL_Right_Arm  \\\n",
              " 0            0            0                   0             0   \n",
              " 1            0            0                   0             0   \n",
              " 2            0            0                   0             0   \n",
              " 3            0            0                   0             0   \n",
              " 4            0            0                   0             0   \n",
              " \n",
              "    LL_Right_Arm_Object  ML_Both_Arms  \n",
              " 0                    0             0  \n",
              " 1                    0             0  \n",
              " 2                    0             0  \n",
              " 3                    0             0  \n",
              " 4                    0             0  \n",
              " \n",
              " [5 rows x 250 columns],\n",
              " 60000)"
            ]
          },
          "metadata": {},
          "execution_count": 14
        }
      ]
    },
    {
      "cell_type": "code",
      "source": [
        "import numpy as np\n",
        "\n",
        "# Define parameters for segmentation\n",
        "window_size = 150  # 5 seconds at 30 Hz (30 samples/second)\n",
        "overlap = 0.5      # 50% overlap\n",
        "step_size = int(window_size * (1 - overlap))  # Step size for overlapping windows\n",
        "\n",
        "# Define the target column for classification; for this example, we'll use 'Locomotion'\n",
        "target_label = 'Locomotion'\n",
        "\n",
        "# Initialize lists to store segmented data and labels\n",
        "segments = []\n",
        "labels = []\n",
        "\n",
        "# Segment the data into overlapping windows\n",
        "for start in range(0, len(sample_data_subset) - window_size + 1, step_size):\n",
        "    end = start + window_size\n",
        "    window = sample_data_subset.iloc[start:end, 1:243]\n",
        "    label = sample_data_subset[target_label][start:end].mode()[0]\n",
        "    segments.append(window.values)\n",
        "    labels.append(label)\n",
        "\n",
        "# Convert segments and labels to numpy arrays for model compatibility\n",
        "X_segments = np.array(segments)\n",
        "y_labels = np.array(labels)\n",
        "\n",
        "# Display the shapes of the segmented data and labels\n",
        "X_segments.shape, y_labels.shape"
      ],
      "metadata": {
        "id": "ueokkBIJ8YFr",
        "colab": {
          "base_uri": "https://localhost:8080/"
        },
        "outputId": "e9b732ca-ce81-4f72-bfb4-a57bf96e1ce8"
      },
      "execution_count": null,
      "outputs": [
        {
          "output_type": "execute_result",
          "data": {
            "text/plain": [
              "((132, 150, 242), (132,))"
            ]
          },
          "metadata": {},
          "execution_count": 15
        }
      ]
    },
    {
      "cell_type": "code",
      "source": [
        "# Columns to consider as target labels based on OPPORTUNITY dataset description\n",
        "label_columns = [244, 245, 246, 248, 249]  # Columns for Locomotion, HL_Activity, LL_Left_Arm, LL_Right_Arm, ML_Both_Arms\n",
        "\n",
        "# Attempting to load a fresh sample of the data if available, and display extracted labels only\n",
        "try:\n",
        "    # Reload sample data\n",
        "    sample_data = pd.read_csv(sample_data_path, sep=' ', header=None)\n",
        "\n",
        "    # Extract label columns from the sample data\n",
        "    labels_data = sample_data[label_columns]\n",
        "\n",
        "    # Check for missing or undefined labels (assuming 0 or NaN as undefined)\n",
        "    missing_labels = labels_data.isin([0, np.nan]).sum()  # Count undefined labels per column\n",
        "\n",
        "    # Replace any undefined labels with NaN for uniformity\n",
        "    labels_data.replace(0, np.nan, inplace=True)\n",
        "\n",
        "    # Show a sample of the prepared labels and counts of missing values\n",
        "    labels_data.head(), missing_labels\n",
        "\n",
        "except FileNotFoundError:\n",
        "    \"The dataset file is not currently accessible.\""
      ],
      "metadata": {
        "id": "ymIKeATe8YK1",
        "colab": {
          "base_uri": "https://localhost:8080/"
        },
        "outputId": "6c5a43a1-3346-4eaa-ecfd-41a6a20211e2"
      },
      "execution_count": null,
      "outputs": [
        {
          "output_type": "stream",
          "name": "stderr",
          "text": [
            "<ipython-input-17-f747c5cb1f83>:16: SettingWithCopyWarning: \n",
            "A value is trying to be set on a copy of a slice from a DataFrame\n",
            "\n",
            "See the caveats in the documentation: https://pandas.pydata.org/pandas-docs/stable/user_guide/indexing.html#returning-a-view-versus-a-copy\n",
            "  labels_data.replace(0, np.nan, inplace=True)\n"
          ]
        }
      ]
    },
    {
      "cell_type": "code",
      "source": [],
      "metadata": {
        "id": "2QgXYaF28YNX"
      },
      "execution_count": null,
      "outputs": []
    },
    {
      "cell_type": "code",
      "source": [],
      "metadata": {
        "id": "E-zahr-C8YPu"
      },
      "execution_count": null,
      "outputs": []
    },
    {
      "cell_type": "code",
      "source": [],
      "metadata": {
        "id": "gWcp4Hf48YTR"
      },
      "execution_count": null,
      "outputs": []
    },
    {
      "cell_type": "code",
      "source": [],
      "metadata": {
        "id": "6NW2XGBFJ9yO"
      },
      "execution_count": null,
      "outputs": []
    },
    {
      "cell_type": "code",
      "source": [],
      "metadata": {
        "id": "ERo-hIlsJ901"
      },
      "execution_count": null,
      "outputs": []
    },
    {
      "cell_type": "code",
      "source": [],
      "metadata": {
        "id": "sYkbei26J93Z"
      },
      "execution_count": null,
      "outputs": []
    },
    {
      "cell_type": "code",
      "source": [],
      "metadata": {
        "id": "1VOkLTp8J951"
      },
      "execution_count": null,
      "outputs": []
    },
    {
      "cell_type": "code",
      "source": [],
      "metadata": {
        "id": "_E3cNDBfJ98U"
      },
      "execution_count": null,
      "outputs": []
    },
    {
      "cell_type": "code",
      "source": [],
      "metadata": {
        "id": "3-URFV04J9-y"
      },
      "execution_count": null,
      "outputs": []
    },
    {
      "cell_type": "code",
      "source": [],
      "metadata": {
        "id": "FKJ6UmSYJ-CV"
      },
      "execution_count": null,
      "outputs": []
    }
  ]
}